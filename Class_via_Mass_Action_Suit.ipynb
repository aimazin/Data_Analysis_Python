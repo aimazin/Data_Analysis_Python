{
  "cells": [
    {
      "cell_type": "markdown",
      "metadata": {
        "id": "view-in-github",
        "colab_type": "text"
      },
      "source": [
        "<a href=\"https://colab.research.google.com/github/aimazin/Data_Analysis_Python/blob/main/Class_via_Mass_Action_Suit.ipynb\" target=\"_parent\"><img src=\"https://colab.research.google.com/assets/colab-badge.svg\" alt=\"Open In Colab\"/></a>"
      ]
    },
    {
      "cell_type": "markdown",
      "id": "659822e7",
      "metadata": {
        "id": "659822e7"
      },
      "source": [
        "# Class Action Suit (Swedish: Koppleri)"
      ]
    },
    {
      "cell_type": "code",
      "execution_count": null,
      "id": "37b2b222",
      "metadata": {
        "id": "37b2b222"
      },
      "outputs": [],
      "source": [
        "import pandas as pd\n",
        "import numpy as np\n",
        "import matplotlib.pyplot as plt"
      ]
    },
    {
      "cell_type": "code",
      "execution_count": null,
      "id": "f9e7ddf9",
      "metadata": {
        "id": "f9e7ddf9"
      },
      "outputs": [],
      "source": [
        "#p=Ce^(S/k),sales-expanses=income,inkomstpq"
      ]
    },
    {
      "cell_type": "code",
      "execution_count": null,
      "id": "6d825736",
      "metadata": {
        "id": "6d825736"
      },
      "outputs": [],
      "source": [
        "t=[]\n",
        "l=range(0,100)\n",
        "o=(np.ones(100))\n",
        "#for i in o:\n",
        " #   o = o + 1\n",
        "  #  t.append(o)\n",
        "S=np.array(l)*-1#neglect,\n",
        "k=1#confidence,fortroende\n",
        "C=-1 #J(J-1),conscent, medger"
      ]
    },
    {
      "cell_type": "code",
      "execution_count": null,
      "id": "1a4c7067",
      "metadata": {
        "id": "1a4c7067"
      },
      "outputs": [],
      "source": [
        "p=C*np.exp(S/k)#persistent behaviour,forsummning av betende"
      ]
    },
    {
      "cell_type": "code",
      "execution_count": null,
      "id": "76dcf8e1",
      "metadata": {
        "colab": {
          "base_uri": "https://localhost:8080/",
          "height": 241
        },
        "id": "76dcf8e1",
        "outputId": "0275b88e-a021-4010-b5fb-09b816ff21c1"
      },
      "outputs": [
        {
          "output_type": "display_data",
          "data": {
            "text/plain": [
              "<Figure size 432x288 with 1 Axes>"
            ],
            "image/png": "[encoded data removed]"
          },
          "metadata": {
            "needs_background": "light"
          }
        }
      ],
      "source": [
        "plt.plot(np.array(l),p)\n",
        "plt.title('Inkomst/income')\n",
        "#plt.y_label('nature')\n",
        "#plt.x_label('degree')\n",
        "plt.show()"
      ]
    }
  ],
  "metadata": {
    "kernelspec": {
      "display_name": "Python 3 (ipykernel)",
      "language": "python",
      "name": "python3"
    },
    "language_info": {
      "codemirror_mode": {
        "name": "ipython",
        "version": 3
      },
      "file_extension": ".py",
      "mimetype": "text/x-python",
      "name": "python",
      "nbconvert_exporter": "python",
      "pygments_lexer": "ipython3",
      "version": "3.8.13"
    },
    "colab": {
      "provenance": [],
      "include_colab_link": true
    }
  },
  "nbformat": 4,
  "nbformat_minor": 5
}